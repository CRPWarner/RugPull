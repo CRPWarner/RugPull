{
 "cells": [
  {
   "cell_type": "code",
   "execution_count": 11,
   "metadata": {},
   "outputs": [],
   "source": [
    "# import\n",
    "import pandas as pd\n",
    "import os\n",
    "import json\n",
    "import random"
   ]
  },
  {
   "cell_type": "code",
   "execution_count": 12,
   "metadata": {},
   "outputs": [
    {
     "name": "stdout",
     "output_type": "stream",
     "text": [
      "Number of groundTruth addresses:  69\n"
     ]
    }
   ],
   "source": [
    "path_groundTruth_excel = '../groundTruth/groundTruth.xlsx'\n",
    "df_groundTruth = pd.read_excel(path_groundTruth_excel, engine='openpyxl')\n",
    "\n",
    "list_groundTruth_address = df_groundTruth['address'].tolist()\n",
    "print('Number of groundTruth addresses: ', len(list_groundTruth_address))"
   ]
  },
  {
   "cell_type": "code",
   "execution_count": 13,
   "metadata": {},
   "outputs": [],
   "source": [
    "# 指定文件夹路径\n",
    "path_hex_folder = '../groundTruth/hex'\n",
    "path_sol_folder = '../groundTruth/sol'\n",
    "\n",
    "# 获取文件夹中的所有文件名，不包括后缀\n",
    "list_filenames_hex = [os.path.splitext(f)[0] for f in os.listdir(path_hex_folder) if os.path.isfile(os.path.join(path_hex_folder, f))]\n",
    "list_filenames_sol = [os.path.splitext(f)[0] for f in os.listdir(path_sol_folder) if os.path.isfile(os.path.join(path_sol_folder, f))]"
   ]
  },
  {
   "cell_type": "code",
   "execution_count": 14,
   "metadata": {},
   "outputs": [],
   "source": [
    "# 找到还缺少的hex和sol文件\n",
    "def GetLackAddress(_list_groundTruth_address, _list_filenames_hex, _list_filenames_sol):\n",
    "    _list_hex_lack = []\n",
    "    _list_sol_lack = []\n",
    "    for _address in _list_groundTruth_address:\n",
    "        if _address not in _list_filenames_hex:\n",
    "            _list_hex_lack.append(_address)\n",
    "        if _address not in _list_filenames_sol:\n",
    "            _list_sol_lack.append(_address)\n",
    "    return _list_hex_lack, _list_sol_lack"
   ]
  },
  {
   "cell_type": "code",
   "execution_count": 5,
   "metadata": {},
   "outputs": [
    {
     "name": "stdout",
     "output_type": "stream",
     "text": [
      "The number of lack addresses: hex:  0 ; sol:  0\n"
     ]
    }
   ],
   "source": [
    "list_hex_lack, list_sol_lack = GetLackAddress(list_groundTruth_address, list_filenames_hex, list_filenames_sol)\n",
    "print('The number of lack addresses: hex: ', len(list_hex_lack), '; sol: ', len(list_sol_lack))"
   ]
  },
  {
   "cell_type": "markdown",
   "metadata": {},
   "source": [
    "分析实验结果"
   ]
  },
  {
   "cell_type": "code",
   "execution_count": 15,
   "metadata": {},
   "outputs": [
    {
     "name": "stdout",
     "output_type": "stream",
     "text": [
      "Number of all contracts: 69\n",
      "Number of one risk:  22\n",
      "Number of two risk:  17\n",
      "Number of three risk:  0\n",
      "Number of contracts with risk:  39\n",
      "Number of contracts without risk:  30\n"
     ]
    }
   ],
   "source": [
    "total_set_groundTruth = set()\n",
    "set_truth_one = set()\n",
    "set_truth_two = set()\n",
    "set_truth_three = set()\n",
    "\n",
    "df_Mint = pd.DataFrame(columns=['Address', 'Label', 'Result'])\n",
    "df_Mint['Address'] = df_groundTruth['address']\n",
    "df_Mint['Label'] = df_groundTruth['Mint']\n",
    "\n",
    "df_Leak = pd.DataFrame(columns=['Address', 'Label', 'Result'])\n",
    "df_Leak['Address'] = df_groundTruth['address']\n",
    "df_Leak['Label'] = df_groundTruth['Leak']\n",
    "\n",
    "df_Limit = pd.DataFrame(columns=['Address', 'Label', 'Result'])\n",
    "df_Limit['Address'] = df_groundTruth['address']\n",
    "df_Limit['Label'] = df_groundTruth['Limit']\n",
    "\n",
    "path_result_json = '/pro/linzw/CRPWarner/zeroruger/gigahorse-toolchain/groundtruth/0123_2247/results.json'\n",
    "with open(path_result_json, 'r') as f:\n",
    "    list_result = json.load(f)\n",
    "\n",
    "for item in list_result:\n",
    "    _count = 0\n",
    "    address = item[0][:item[0].find('.hex')]\n",
    "    row = df_Mint.loc[df_Mint['Address'] == address].index[0]\n",
    "\n",
    "    list_result_output = item[1]\n",
    "    if 'Mint_0106' in list_result_output:\n",
    "        df_Mint.at[row, 'Result'] = 1\n",
    "        total_set_groundTruth.add(address)\n",
    "        _count += 1\n",
    "    else:\n",
    "        df_Mint.at[row, 'Result'] = 0\n",
    "\n",
    "    if 'Leak_0104' in list_result_output:\n",
    "        df_Leak.at[row, 'Result'] = 1\n",
    "        total_set_groundTruth.add(address)\n",
    "        _count += 1\n",
    "    else:\n",
    "        df_Leak.at[row, 'Result'] = 0\n",
    "\n",
    "    if 'Limit_0102' in list_result_output:\n",
    "        df_Limit.at[row, 'Result'] = 1\n",
    "        total_set_groundTruth.add(address)\n",
    "        _count += 1\n",
    "    else:\n",
    "        df_Limit.at[row, 'Result'] = 0\n",
    "\n",
    "    if _count == 1:\n",
    "        set_truth_one.add(address)\n",
    "    elif _count == 2:\n",
    "        set_truth_two.add(address)\n",
    "    elif _count == 3:\n",
    "        set_truth_three.add(address)\n",
    "\n",
    "print('Number of all contracts: 69')\n",
    "print('Number of one risk: ', len(set_truth_one))\n",
    "print('Number of two risk: ', len(set_truth_two))\n",
    "print('Number of three risk: ', len(set_truth_three))\n",
    "print('Number of contracts with risk: ', len(total_set_groundTruth))\n",
    "print('Number of contracts without risk: ', 69 - len(total_set_groundTruth))"
   ]
  },
  {
   "cell_type": "code",
   "execution_count": 7,
   "metadata": {},
   "outputs": [
    {
     "name": "stdout",
     "output_type": "stream",
     "text": [
      "The result of Mint: \n",
      "Precision: 0.9473684210526315 ; Recall: 0.9 ; F1-score: 0.9230769230769231\n",
      "The number of fp: 1 ; fn: 2 ; tp: 18 ; tn: 48\n"
     ]
    }
   ],
   "source": [
    "# 分析Mint的实验结果\n",
    "df_true_positives_mint = df_Mint[(df_Mint['Label'] == 1) & (df_Mint['Result'] == 1)]\n",
    "df_false_positives_mint = df_Mint[(df_Mint['Label'] == 0) & (df_Mint['Result'] == 1)]\n",
    "df_true_negatives_mint = df_Mint[(df_Mint['Label'] == 0) & (df_Mint['Result'] == 0)]\n",
    "df_false_negatives_mint = df_Mint[(df_Mint['Label'] == 1) & (df_Mint['Result'] == 0)]\n",
    "\n",
    "num_tp_mint = df_true_positives_mint.shape[0]\n",
    "num_fp_mint = df_false_positives_mint.shape[0]\n",
    "num_tn_mint = df_true_negatives_mint.shape[0]\n",
    "num_fn_mint = df_false_negatives_mint.shape[0]\n",
    "\n",
    "precision_mint = num_tp_mint / (num_tp_mint + num_fp_mint)\n",
    "recall_mint = num_tp_mint / (num_tp_mint + num_fn_mint)\n",
    "if precision_mint + recall_mint == 0:\n",
    "    f1_mint = 0\n",
    "else:\n",
    "    f1_mint = 2 * (precision_mint * recall_mint) / (precision_mint + recall_mint)\n",
    "\n",
    "print('The result of Mint: ')\n",
    "print('Precision:', precision_mint, '; Recall:', recall_mint, '; F1-score:', f1_mint)\n",
    "print('The number of fp:', num_fp_mint, '; fn:', num_fn_mint, '; tp:', num_tp_mint, '; tn:', num_tn_mint)"
   ]
  },
  {
   "cell_type": "code",
   "execution_count": 8,
   "metadata": {},
   "outputs": [
    {
     "name": "stdout",
     "output_type": "stream",
     "text": [
      "The result of Limit: \n",
      "Precision: 0.9310344827586207 ; Recall: 0.9 ; F1-score: 0.9152542372881356\n",
      "The number of fp: 2 ; fn: 3 ; tp:  27 ; tn:  37\n"
     ]
    }
   ],
   "source": [
    "# 分析Limit的实验结果\n",
    "df_true_positives_limit = df_Limit[(df_Limit['Label'] == 1) & (df_Limit['Result'] == 1)]\n",
    "df_false_positives_limit = df_Limit[(df_Limit['Label'] == 0) & (df_Limit['Result'] == 1)]\n",
    "df_true_negatives_limit = df_Limit[(df_Limit['Label'] == 0) & (df_Limit['Result'] == 0)]\n",
    "df_false_negatives_limit = df_Limit[(df_Limit['Label'] == 1) & (df_Limit['Result'] == 0)]\n",
    "\n",
    "num_tp_limit = df_true_positives_limit.shape[0]\n",
    "num_fp_limit = df_false_positives_limit.shape[0]\n",
    "num_tn_limit = df_true_negatives_limit.shape[0]\n",
    "num_fn_limit = df_false_negatives_limit.shape[0]\n",
    "\n",
    "precision_limit = num_tp_limit / (num_tp_limit + num_fp_limit)\n",
    "recall_limit = num_tp_limit / (num_tp_limit + num_fn_limit)\n",
    "f1_limit = 2 * (precision_limit * recall_limit) / (precision_limit + recall_limit)\n",
    "\n",
    "print('The result of Limit: ')\n",
    "print('Precision:', precision_limit, '; Recall:', recall_limit, '; F1-score:', f1_limit)\n",
    "print('The number of fp:', num_fp_limit, '; fn:', num_fn_limit, '; tp: ', num_tp_limit, '; tn: ', num_tn_limit)"
   ]
  },
  {
   "cell_type": "code",
   "execution_count": null,
   "metadata": {},
   "outputs": [],
   "source": []
  },
  {
   "cell_type": "code",
   "execution_count": 16,
   "metadata": {},
   "outputs": [
    {
     "name": "stdout",
     "output_type": "stream",
     "text": [
      "The result of Leak: \n",
      "Precision: 0.875 ; Recall: 0.7777777777777778 ; F1-score: 0.823529411764706\n",
      "The number of fp: 1 ; fn: 2 ; tp: 7 ; tn: 59\n"
     ]
    }
   ],
   "source": [
    "# 分析Leak的实验结果\n",
    "df_true_positives_leak = df_Leak[(df_Leak['Label'] == 1) & (df_Leak['Result'] == 1)]\n",
    "df_false_positives_leak = df_Leak[(df_Leak['Label'] == 0) & (df_Leak['Result'] == 1)]\n",
    "df_true_negatives_leak = df_Leak[(df_Leak['Label'] == 0) & (df_Leak['Result'] == 0)]\n",
    "df_false_negatives_leak = df_Leak[(df_Leak['Label'] == 1) & (df_Leak['Result'] == 0)]\n",
    "\n",
    "num_tp_leak = df_true_positives_leak.shape[0]\n",
    "num_fp_leak = df_false_positives_leak.shape[0]\n",
    "num_tn_leak = df_true_negatives_leak.shape[0]\n",
    "num_fn_leak = df_false_negatives_leak.shape[0]\n",
    "\n",
    "precision_leak = num_tp_leak / (num_tp_leak + num_fp_leak)\n",
    "recall_leak = num_tp_leak / (num_tp_leak + num_fn_leak)\n",
    "if precision_leak + recall_leak == 0:\n",
    "    f1_leak = 0\n",
    "else:   \n",
    "    f1_leak = 2 * (precision_leak * recall_leak) / (precision_leak + recall_leak)\n",
    "\n",
    "print('The result of Leak: ')\n",
    "print('Precision:', precision_leak, '; Recall:', recall_leak, '; F1-score:', f1_leak)\n",
    "print('The number of fp:', num_fp_leak, '; fn:', num_fn_leak, '; tp:', num_tp_leak, '; tn:', num_tn_leak)"
   ]
  },
  {
   "cell_type": "markdown",
   "metadata": {},
   "source": [
    "分别分析GroundTruth的实验结果"
   ]
  },
  {
   "cell_type": "code",
   "execution_count": 9,
   "metadata": {},
   "outputs": [
    {
     "data": {
      "text/html": [
       "<div>\n",
       "<style scoped>\n",
       "    .dataframe tbody tr th:only-of-type {\n",
       "        vertical-align: middle;\n",
       "    }\n",
       "\n",
       "    .dataframe tbody tr th {\n",
       "        vertical-align: top;\n",
       "    }\n",
       "\n",
       "    .dataframe thead th {\n",
       "        text-align: right;\n",
       "    }\n",
       "</style>\n",
       "<table border=\"1\" class=\"dataframe\">\n",
       "  <thead>\n",
       "    <tr style=\"text-align: right;\">\n",
       "      <th></th>\n",
       "      <th>Address</th>\n",
       "      <th>Label</th>\n",
       "      <th>Result</th>\n",
       "    </tr>\n",
       "  </thead>\n",
       "  <tbody>\n",
       "    <tr>\n",
       "      <th>5</th>\n",
       "      <td>0x11CBC781DadAAD13fc3a361772C80B1C027820AF</td>\n",
       "      <td>0</td>\n",
       "      <td>1</td>\n",
       "    </tr>\n",
       "  </tbody>\n",
       "</table>\n",
       "</div>"
      ],
      "text/plain": [
       "                                      Address  Label Result\n",
       "5  0x11CBC781DadAAD13fc3a361772C80B1C027820AF      0      1"
      ]
     },
     "execution_count": 9,
     "metadata": {},
     "output_type": "execute_result"
    }
   ],
   "source": [
    "df_false_positives_leak"
   ]
  },
  {
   "cell_type": "code",
   "execution_count": 10,
   "metadata": {},
   "outputs": [
    {
     "data": {
      "text/html": [
       "<div>\n",
       "<style scoped>\n",
       "    .dataframe tbody tr th:only-of-type {\n",
       "        vertical-align: middle;\n",
       "    }\n",
       "\n",
       "    .dataframe tbody tr th {\n",
       "        vertical-align: top;\n",
       "    }\n",
       "\n",
       "    .dataframe thead th {\n",
       "        text-align: right;\n",
       "    }\n",
       "</style>\n",
       "<table border=\"1\" class=\"dataframe\">\n",
       "  <thead>\n",
       "    <tr style=\"text-align: right;\">\n",
       "      <th></th>\n",
       "      <th>Address</th>\n",
       "      <th>Label</th>\n",
       "      <th>Result</th>\n",
       "    </tr>\n",
       "  </thead>\n",
       "  <tbody>\n",
       "    <tr>\n",
       "      <th>31</th>\n",
       "      <td>0x9dB8a10C7FE60d84397860b3aF2E686D4F90C2b7</td>\n",
       "      <td>1</td>\n",
       "      <td>0</td>\n",
       "    </tr>\n",
       "    <tr>\n",
       "      <th>34</th>\n",
       "      <td>0x42269AC712372AC89A158ad5a32806c6b6782d66</td>\n",
       "      <td>1</td>\n",
       "      <td>0</td>\n",
       "    </tr>\n",
       "    <tr>\n",
       "      <th>51</th>\n",
       "      <td>0xa942890d7FC60F0D4a516f63dd273DcDE72aE6c9</td>\n",
       "      <td>1</td>\n",
       "      <td>0</td>\n",
       "    </tr>\n",
       "  </tbody>\n",
       "</table>\n",
       "</div>"
      ],
      "text/plain": [
       "                                       Address  Label Result\n",
       "31  0x9dB8a10C7FE60d84397860b3aF2E686D4F90C2b7      1      0\n",
       "34  0x42269AC712372AC89A158ad5a32806c6b6782d66      1      0\n",
       "51  0xa942890d7FC60F0D4a516f63dd273DcDE72aE6c9      1      0"
      ]
     },
     "execution_count": 10,
     "metadata": {},
     "output_type": "execute_result"
    }
   ],
   "source": [
    "df_false_negatives_leak"
   ]
  },
  {
   "cell_type": "code",
   "execution_count": null,
   "metadata": {},
   "outputs": [],
   "source": []
  },
  {
   "cell_type": "markdown",
   "metadata": {},
   "source": [
    "分析大规模实验的实验结果"
   ]
  },
  {
   "cell_type": "code",
   "execution_count": 13,
   "metadata": {},
   "outputs": [
    {
     "name": "stdout",
     "output_type": "stream",
     "text": [
      "Number of all contracts:  13483\n",
      "Number of one risk:  2181\n",
      "Number of two risk:  1416\n",
      "Number of three risk:  571\n",
      "Number of contracts with risk:  4168\n",
      "Number of contracts without risk:  9315\n"
     ]
    }
   ],
   "source": [
    "dict_large = {}\n",
    "set_large_mint = set()\n",
    "set_large_leak = set()\n",
    "set_large_limit = set()\n",
    "set_large_one = set()\n",
    "set_large_two = set()\n",
    "set_large_three = set()\n",
    "\n",
    "path_large_json = '/pro/linzw/CRPWarner/zeroruger/gigahorse-toolchain/large/0123_2308/results.json'\n",
    "with open(path_large_json, 'r') as f:\n",
    "    list_large_result = json.load(f)\n",
    "\n",
    "for item in list_large_result:\n",
    "    _count = 0\n",
    "    address = item[0][:item[0].find('.hex')]\n",
    "    dict_pattern = {}\n",
    "\n",
    "    list_result_output = item[1]\n",
    "    if 'Mint_0106' in list_result_output:\n",
    "        dict_pattern['Mint'] = True\n",
    "        set_large_mint.add(address)\n",
    "        _count += 1\n",
    "    else:\n",
    "        dict_pattern['Mint'] = False\n",
    "\n",
    "    if 'Leak_0104' in list_result_output:\n",
    "        dict_pattern['Leak'] = True\n",
    "        set_large_leak.add(address)\n",
    "        _count += 1\n",
    "    else:\n",
    "        dict_pattern['Leak'] = False\n",
    "\n",
    "    if 'Limit_0102' in list_result_output:\n",
    "        dict_pattern['Limit'] = True\n",
    "        set_large_limit.add(address)\n",
    "        _count += 1\n",
    "    else:\n",
    "        dict_pattern['Limit'] = False\n",
    "    \n",
    "    dict_large[address] = dict_pattern\n",
    "\n",
    "    if _count == 1:\n",
    "        set_large_one.add(address)\n",
    "    elif _count == 2:\n",
    "        set_large_two.add(address)\n",
    "    elif _count == 3:\n",
    "        set_large_three.add(address)\n",
    "\n",
    "total_set = set()\n",
    "total_set = set_large_mint.union(set_large_leak, set_large_limit)\n",
    "\n",
    "print('Number of all contracts: ', len(dict_large))\n",
    "print('Number of one risk: ', len(set_large_one))\n",
    "print('Number of two risk: ', len(set_large_two))\n",
    "print('Number of three risk: ', len(set_large_three))\n",
    "print('Number of contracts with risk: ', len(total_set))\n",
    "print('Number of contracts without risk: ', len(dict_large) - len(total_set))\n"
   ]
  },
  {
   "cell_type": "code",
   "execution_count": 3,
   "metadata": {},
   "outputs": [
    {
     "name": "stdout",
     "output_type": "stream",
     "text": [
      "The number of mint:  2775\n",
      "Sampled Address: \n",
      "1 :  0x645b6d66a07479bca259aaaaf0066d415e1d4b44\n",
      "2 :  0x8d46facfb889740a345755e624942257dc87b5ac\n",
      "3 :  0x7d227fe3c5885c3875180e03c548d09ebe1b0119\n",
      "4 :  0xb363a3c584b1f379c79fbf09df015da5529d4dac\n",
      "5 :  0xaba501a8ca62451f4af9e88b9f7f534ceec84c2a\n",
      "6 :  0x616f9cb89319194935543f445266735bfce524d6\n",
      "7 :  0x2ea20ba1c704db0822b78e146cd7a5f3b0342fb1\n",
      "8 :  0x55b65bdbe29a1b2d29e28038b09075bac320d11d\n",
      "9 :  0x7dd2f15b4a8c8e14da5eaa7b635221d4b39c41cc\n",
      "10 :  0x9157c8359a1e349e599665bf83e22d32c69b9daf\n",
      "11 :  0x08769a9b479a4b20e796194d960cc407fc66359a\n",
      "12 :  0xf18ef338df7770abf0d20d09dff86c7398a91046\n",
      "13 :  0x2a90a1536dbadcb3be3c3e8af0019478c449fa5c\n",
      "14 :  0x8c01ada8e708993a891d57d1b3169479a20acb3a\n",
      "15 :  0x89cf87c35e69a9b84f7a3e50eaf54bfc3cabc377\n",
      "16 :  0x2f4f6c055a7c8ab529f5b01f6616164aaeec18ad\n",
      "17 :  0x1cf33ead073351b3fc63c1f4f35dc10791fe6c7c\n",
      "18 :  0x0c29d192dd5443fb5f00e5fe52f61d793025643b\n",
      "19 :  0x7fccf800568747b178c6cbbe4bf3d147df75ac61\n",
      "20 :  0x54ee540b38fc6e0548172fe651927d85366c6bf7\n",
      "21 :  0xea1b323e9aa0c0188f0ddacc4f22a6aaf8542d2c\n",
      "22 :  0x0b54c811cd4fd4d27c2ff0061c3831427d89b73c\n",
      "23 :  0xaf10bbe0b36276fc28b674e647962dff4176eb9e\n",
      "24 :  0x27ba530d3d4bfd98a31eb7c9512e1ce502c990b6\n",
      "25 :  0xba14c6c651fa5998ba58e1a2be9a1ce5280cf966\n",
      "26 :  0xf49cdd50ad408d387d611f88a647179c3de3492b\n",
      "27 :  0x2e76886f251caf2efe6853b181cea3385cc3a24b\n",
      "28 :  0xb0dfb2df1b29b304c59e92e8f8bff329b9d20f62\n",
      "29 :  0x7fa2f70bd4c4120fdd539ebd55c04118ba336b9e\n",
      "30 :  0x522b0f328ca716b5b676cab767372d48853ff040\n",
      "31 :  0x7a1c0aa1e5bd4cc05af8c0283fd4aebedd7cadcf\n",
      "32 :  0x3633c61be0dd1b1fd20a97e05c5ed880a204de33\n",
      "33 :  0xb6d699699ccc50548c1916b02afff6e5a7bc4117\n",
      "34 :  0x4c0c2052dfdb2d0932644f7b2d4bea509678b9d9\n",
      "35 :  0xaaca4e6efdd63a9116aecd31ee929d0f778be0c0\n",
      "36 :  0x64d30c2e9715f0add2815f862eaf22d9dbc1bd28\n",
      "37 :  0xfdf475788c31c57e85f2c48add16164fb5ac84e3\n",
      "38 :  0xb9b4f4102d39ea2dd11d00a1ae2f878e5f1e26a9\n",
      "39 :  0x71a982a028c9d4b0566041a78df12b810462e155\n",
      "40 :  0xc8bb6085d22de404fe9c6cd85c4536654b9f37b1\n",
      "41 :  0xd35ef25873bd9ba3e67dccd1a5634f49a32e44f0\n",
      "42 :  0x1b64dd46fdc45bb8706beb306241f089ed5d85bc\n",
      "43 :  0xa82422731d00d935ed29c719f2f41f1794665043\n",
      "44 :  0xf9af111815161a6edec4b40a083d5efb3eca4f04\n",
      "45 :  0x5e2cdfaaa35273bb4c1ca9c3c8f335af1b1bf4b7\n",
      "46 :  0x2e6fcb32c0469de2d43785b02575a2086e2bc040\n",
      "47 :  0x58b6a8a3302369daec383334672404ee733ab239\n",
      "48 :  0x7fc408011165760ee31be2bf20daf450356692af\n",
      "49 :  0x3bd183046cf51acc807d1f0680029fa764f17bee\n",
      "50 :  0x56ba2ee7890461f463f7be02aac3099f6d5811a8\n",
      "51 :  0xc8fcc48d1454a83589169294470549a2e1713dec\n",
      "52 :  0x1c4e6c18f7f5c15bbfff34b05b4523e92e56e3f6\n",
      "53 :  0x549ace5ff0c3a1881682fa06813c06884f7ee2e0\n",
      "54 :  0xdd84fc33eeac5b4c26a09ff13abf3cd1a7d3f8dd\n",
      "55 :  0xd3faa38c0d0f77130efd806a4cc0526465803670\n",
      "56 :  0x678ae07713cb9e8af29d78ca2836fa3851a26a7a\n",
      "57 :  0xfa24078bd2daa00232733a1bd8df5badf047ffa2\n",
      "58 :  0xda4dba3029946b950b7fcfd71342fdbe5bfa45fc\n",
      "59 :  0xc17423a26ccc6d307d3f58219443ad3eaa78f74f\n",
      "60 :  0xebd55da9de25d071369130270de9fad62a12f5e6\n",
      "61 :  0x81faa7321658f9c86eafe107896546ddea98643b\n",
      "62 :  0x16b3e773e5cb8b6db6d64b20ae0ecaa4edc83077\n",
      "63 :  0x5422b8e108c1e361863d9aabdaa72f945c213422\n",
      "64 :  0x01d10fb85495e2c44097231fcbaafec890274d2c\n",
      "65 :  0x222222de1914c2b303504e3b035cf46b11fcfc6c\n",
      "66 :  0xe0bb2ba6abfe69eef1b0828e090a3abd5863c7ad\n",
      "67 :  0x436aad97c5c4298521a1295f5e55c7bd9ab090c3\n",
      "68 :  0xb7c4a82936194fee52a4e3d4cec3415f74507532\n",
      "69 :  0x5ee016648c8dcbd4dd7b44dfc1f84095c1b1ccd9\n",
      "70 :  0x59af705ae5c1a41cf7b50fd374de359eb2c7cf5c\n",
      "71 :  0x12f5d3495133ec80ff2a3e464aa44f1f6315b1b1\n",
      "72 :  0xecc3a47f5d0ac33db287d8f9debf03830853cbb9\n"
     ]
    }
   ],
   "source": [
    "print('The number of mint: ', len(set_large_mint))\n",
    "sampled_mint = random.sample(set_large_mint, 72)\n",
    "print('Sampled Address: ')\n",
    "count = 1\n",
    "for address in sampled_mint:\n",
    "    print(count, ': ', address)\n",
    "    count += 1\n"
   ]
  },
  {
   "cell_type": "code",
   "execution_count": 4,
   "metadata": {},
   "outputs": [
    {
     "name": "stdout",
     "output_type": "stream",
     "text": [
      "The number of limit:  2796\n",
      "Sampled Address: \n",
      "1 :  0x76bc9e61a1904b82cbf70d1fd9c0f8a120483bbb\n",
      "2 :  0x7f3e7af72b565d508ce63abbfdefd0161390c9ed\n",
      "3 :  0x897dc0cca9bb43f7601e477e721ef4dea4453f07\n",
      "4 :  0xb1733c9c3cb5d98c2c35db27e30de26081d4d30a\n",
      "5 :  0xe79b55a739abd64c62e8a642afbf02582c008c88\n",
      "6 :  0x4c567c3363cc42c5a42c6d8bf01503fd1d0b91cd\n",
      "7 :  0x40165bd6d657b63cb6f8f4a3525ac05bbf74bd93\n",
      "8 :  0x76a6b003c39c1eb38b96aaaa1f551e4c6ad3de5c\n",
      "9 :  0x9ab4fd2234d75cfa894c394b367e48055b531e56\n",
      "10 :  0x02d3aea48b443a0026ed9cbc91b97d7335aba323\n",
      "11 :  0x3f1db2c3e98232971ec8ccfea8be865228763fef\n",
      "12 :  0xc5284e12632a01046d01a8dc886466f82071254b\n",
      "13 :  0x5ee5e63f3225e5b070be0fac1cf6c2ae2ade24d4\n",
      "14 :  0x9c0a1bbf01aee832afafeac003a57ff508a2a386\n",
      "15 :  0xdf859c9878ef5e742d7bbe3c22a496c088c89fa9\n",
      "16 :  0x8f3a9953c5ca4449d15721cd6e11ebc15a89e569\n",
      "17 :  0x2b36968bf3c77253266aa382562fa3fdd7fa1667\n",
      "18 :  0xe2c43d2c6d6875c8f24855054d77b5664c7e810f\n",
      "19 :  0xbed451b9d7c1e0458a2e57888a001c20e3b65f44\n",
      "20 :  0x56ba1d5ba4d1b6efc3993493cf23b17f7de46a12\n"
     ]
    }
   ],
   "source": [
    "print('The number of limit: ', len(set_large_limit))\n",
    "sampled_limit = random.sample(set_large_limit, 20)\n",
    "print('Sampled Address: ')\n",
    "count = 1\n",
    "for address in sampled_limit:\n",
    "    print(count, ': ', address)\n",
    "    count += 1"
   ]
  },
  {
   "cell_type": "code",
   "execution_count": 12,
   "metadata": {},
   "outputs": [
    {
     "name": "stdout",
     "output_type": "stream",
     "text": [
      "The number of leak:  1155\n",
      "Sampled Address: \n",
      "1 :  0x46043c9093ff4d0a796bd1aee7e80254420368dd\n"
     ]
    }
   ],
   "source": [
    "print('The number of leak: ', len(set_large_leak))\n",
    "sampled_leak = random.sample(set_large_leak, 1)\n",
    "print('Sampled Address: ')\n",
    "count = 1\n",
    "for address in sampled_leak:\n",
    "    print(count, ': ', address)\n",
    "    count += 1"
   ]
  }
 ],
 "metadata": {
  "kernelspec": {
   "display_name": "env_dataset",
   "language": "python",
   "name": "python3"
  },
  "language_info": {
   "codemirror_mode": {
    "name": "ipython",
    "version": 3
   },
   "file_extension": ".py",
   "mimetype": "text/x-python",
   "name": "python",
   "nbconvert_exporter": "python",
   "pygments_lexer": "ipython3",
   "version": "3.8.10"
  }
 },
 "nbformat": 4,
 "nbformat_minor": 2
}
